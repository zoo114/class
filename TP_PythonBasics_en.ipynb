{
  "cells": [
    {
      "cell_type": "markdown",
      "metadata": {
        "id": "4T-9HU-YogkE"
      },
      "source": [
        "# Python Basics\n",
        "---"
      ]
    },
    {
      "cell_type": "markdown",
      "metadata": {
        "id": "M-U_HeJCpAdv"
      },
      "source": [
        "## 1. Notebook"
      ]
    },
    {
      "cell_type": "markdown",
      "metadata": {
        "id": "G0PvI2B86vJC"
      },
      "source": [
        "### UI structure\n",
        "- Markdown block like this one.\n",
        "- Code block such as the following."
      ]
    },
    {
      "cell_type": "code",
      "execution_count": null,
      "metadata": {
        "id": "AT3O0pEUrLsg"
      },
      "outputs": [],
      "source": [
        "# This is a Python code block.\n",
        "# Any text behind '#' is a comment in Python.\n",
        "\n",
        "print('This the first line of Python code.')\n",
        "print('Hello World!')\n",
        "\n",
        "# The printed output of a Python code snippet in a code block is right below the block"
      ]
    },
    {
      "cell_type": "markdown",
      "metadata": {
        "id": "NslLc-FvgsLe"
      },
      "source": [
        "  - Other UI elements in Colab:\n",
        "    - Terminal - A shell session on the remote virtual computer provisioned by Google.\n",
        "    - Variables - A user friendly tracking system of declared \"variables\" also called \"references\" or \"names\", in a Python REPL session currently employed.\n",
        "    - Gemini - no need to explain what it is, but a reminder that *it could be a powerful tool for learning when used in a critical way*. Suggestions:\n",
        "      - The reply of Gemini mirrors the quality of your question --> use it as a tool to practice your formulation of questions for clarity and accuracy.\n",
        "      - Gemini is good for accurate and fast information gethering in a context of short logic loop --> challenge its answer when the conversation involves complex logic with your own input.\n",
        "      - Derive your own insights or conclusions from the conversation, then verify it with Gemini, again the clarity and accuracy of your input formulation is crucial."
      ]
    },
    {
      "cell_type": "markdown",
      "metadata": {
        "id": "rFOPVr4px_XI"
      },
      "source": [
        "### How to write basic Markdown:\n",
        "\n"
      ]
    },
    {
      "cell_type": "markdown",
      "metadata": {
        "id": "-HAYEOxz7c29"
      },
      "source": [
        "Try the following markdown in new markdown block. Create a markdown cell by pressing \"+Text\" button.\n",
        "```\n",
        "# Title\n",
        "\n",
        "## Section\n",
        "\n",
        "This is a formula inline using Latex: $f(x)=ax+b$. This is a block formula $$f(x)=ax+b$$\n",
        "Back to text.\n",
        "\n",
        "## Subsection\n",
        "\n",
        "### Subsubsection\n",
        "\n",
        "You can type enumerates and items in hierarchy\n",
        "\n",
        "How to put an elephant in a fridge?\n",
        "1. Open the door of the fridge,\n",
        "2. Put the the elephant inside,\n",
        "3. Close the door!\n",
        "\n",
        "What are the items in your room:\n",
        "- Desk\n",
        "  - abc\n",
        "  - def\n",
        "    - kk\n",
        "    - gg\n",
        "- Bed\n",
        "- Computer\n",
        "- Chair\n",
        "\n",
        "_italic_ , *also italic* , __bold__\n",
        "\n",
        "#### Some other remarks\n",
        "* Google or ask LLMs for other Markdown tricks.\n",
        "* Files with extension \".md\" are markdown files.\n",
        "```"
      ]
    },
    {
      "cell_type": "markdown",
      "metadata": {
        "id": "LOOW1hLEzJC4"
      },
      "source": [
        "### Python REPL session"
      ]
    },
    {
      "cell_type": "markdown",
      "metadata": {
        "id": "GGytiw-t7upy"
      },
      "source": [
        "- REPL = Read-Evaluation-Print-Loop. Notebook opens a REPL session that operates under loops of\n",
        "  - Read a line of Python code\n",
        "  - Evaluate the code = check & execution via Python interpretor\n",
        "  - Feedback the printed output if any\n",
        "\n",
        "- A Python interpretor also called \"kernel\" is essential for the Notebook to run a REPL session.\n",
        "\n",
        "- All code cells are run in the same Python REPL session. Hence the history of code cell execution, instead of their order of appearance in the Notebook, matters. Here is an example."
      ]
    },
    {
      "cell_type": "code",
      "execution_count": 1,
      "metadata": {
        "id": "8kS-XKOtgGyn",
        "outputId": "84307a50-c3ce-4133-8d54-5c807f4caca3",
        "colab": {
          "base_uri": "https://localhost:8080/",
          "height": 158
        }
      },
      "outputs": [
        {
          "output_type": "error",
          "ename": "NameError",
          "evalue": "name 'X' is not defined",
          "traceback": [
            "\u001b[0;31m---------------------------------------------------------------------------\u001b[0m",
            "\u001b[0;31mNameError\u001b[0m                                 Traceback (most recent call last)",
            "\u001b[0;32m/tmp/ipython-input-3970974325.py\u001b[0m in \u001b[0;36m<cell line: 0>\u001b[0;34m()\u001b[0m\n\u001b[1;32m      1\u001b[0m \u001b[0;31m# Code cell appearing first\u001b[0m\u001b[0;34m\u001b[0m\u001b[0;34m\u001b[0m\u001b[0m\n\u001b[0;32m----> 2\u001b[0;31m \u001b[0mprint\u001b[0m\u001b[0;34m(\u001b[0m\u001b[0;34m'X='\u001b[0m\u001b[0;34m,\u001b[0m \u001b[0mX\u001b[0m\u001b[0;34m)\u001b[0m\u001b[0;34m\u001b[0m\u001b[0;34m\u001b[0m\u001b[0m\n\u001b[0m",
            "\u001b[0;31mNameError\u001b[0m: name 'X' is not defined"
          ]
        }
      ],
      "source": [
        "# Code cell appearing first\n",
        "print('X=', X)"
      ]
    },
    {
      "cell_type": "code",
      "execution_count": 2,
      "metadata": {
        "id": "0pW1MXZZ2kLF"
      },
      "outputs": [],
      "source": [
        "# Code cell appearing second\n",
        "X=12903"
      ]
    },
    {
      "cell_type": "markdown",
      "metadata": {
        "id": "F9FQ5Rz-4AXB"
      },
      "source": [
        "### Running Python programs in terminal"
      ]
    },
    {
      "cell_type": "markdown",
      "metadata": {
        "id": "v--6jruY7mEO"
      },
      "source": [
        "Copy the following code into a file named \"printX.py\"\n",
        "\n",
        "```\n",
        "X = 133232\n",
        "print('X=', X)\n",
        "```\n",
        "\n",
        "and copy it to your Colab virtual machine under the location /content. Then in the terminal, type\n",
        "\n",
        "```\n",
        "python3 /content/printX.py\n",
        "```\n",
        "\n",
        "In this case, the python program is executed by the python interpreter line by line from the top to the bottom without interruption (if there is no errors)."
      ]
    },
    {
      "cell_type": "markdown",
      "metadata": {
        "id": "MWNOMbQW8SE5"
      },
      "source": [
        "## 2. \"Three Layers\" of Python"
      ]
    },
    {
      "cell_type": "markdown",
      "metadata": {
        "id": "7f5fe2e9"
      },
      "source": [
        "### 2.1 **Built**-in Functions and Types\n",
        "\n",
        "These are the core components of Python that are always available. You don't need to import anything to use them. They are fundamental building blocks of the language.\n",
        "\n",
        "Examples include:\n",
        "\n",
        "*   `print()`: Displays output to the console.\n",
        "*   `len()`: Returns the number of items in an object.\n",
        "*   `type()`: Returns the type of an object.\n",
        "*   `int()`, `str()`, `list()`: Functions for converting between different data types."
      ]
    },
    {
      "cell_type": "code",
      "execution_count": null,
      "metadata": {
        "id": "8fd66454"
      },
      "outputs": [],
      "source": [
        "# Examples of built-in functions\n",
        "print(\"This is a built-in function.\")\n",
        "my_string = \"Python\"\n",
        "print(len(my_string))\n",
        "print(type(my_string))\n",
        "my_number_string = \"100\"\n",
        "my_number_int = int(my_number_string)\n",
        "print(my_number_int)"
      ]
    },
    {
      "cell_type": "markdown",
      "metadata": {
        "id": "c635ce47"
      },
      "source": [
        "### 2.2 Standard Library Modules\n",
        "\n",
        "The Python standard library is a collection of modules that are included with Python but need to be imported to be used. These modules provide a wide range of functionalities for common programming tasks.\n",
        "\n",
        "Examples include:\n",
        "\n",
        "*   `math`: Provides mathematical functions.\n",
        "*   `random`: Provides functions for generating random numbers.\n",
        "*   `datetime`: Provides classes for working with dates and times.\n",
        "\n",
        "To import these libraries\n",
        "```\n",
        "import <library_name>\n",
        "```\n",
        "then it can service.\n",
        "\n",
        "Examples:"
      ]
    },
    {
      "cell_type": "code",
      "execution_count": null,
      "metadata": {
        "id": "16c68a41"
      },
      "outputs": [],
      "source": [
        "# Examples of standard library modules\n",
        "import math\n",
        "print(math.sqrt(25))\n",
        "\n",
        "import random\n",
        "print(random.choice([\"apple\", \"banana\", \"cherry\"]))\n",
        "\n",
        "import datetime\n",
        "today = datetime.date.today()\n",
        "print(today)"
      ]
    },
    {
      "cell_type": "markdown",
      "metadata": {
        "id": "3de536b9"
      },
      "source": [
        "### 2.3 Custom (Third-party) Libraries\n",
        "\n",
        "These are libraries developed by people outside of the core Python development team. They are not included with Python by default and need to be installed separately using a package manager like `pip`. These libraries offer specialized tools for various domains.\n",
        "\n",
        "Examples include:\n",
        "\n",
        "*   `pandas`: For data manipulation and analysis.\n",
        "*   `numpy`: For numerical computing.\n",
        "*   `matplotlib`: For creating visualizations.\n",
        "*   `scikit-learn`: For machine learning."
      ]
    },
    {
      "cell_type": "markdown",
      "metadata": {
        "id": "47b637cd"
      },
      "source": [
        "To use a custom library, you first need to install it. You can do this in Colab using `!pip install`. For example, to install the `requests` library:"
      ]
    },
    {
      "cell_type": "code",
      "execution_count": null,
      "metadata": {
        "id": "e7d937f6"
      },
      "outputs": [],
      "source": [
        "# Example of installing a custom library\n",
        "!pip install requests"
      ]
    },
    {
      "cell_type": "markdown",
      "metadata": {
        "id": "a368a9b3"
      },
      "source": [
        "After installation, you can import and use the library:"
      ]
    },
    {
      "cell_type": "code",
      "execution_count": null,
      "metadata": {
        "id": "036cdc6f"
      },
      "outputs": [],
      "source": [
        "# Example of using a custom library (requests)\n",
        "import requests\n",
        "\n",
        "response = requests.get(\"https://www.google.com\")\n",
        "print(response.status_code)"
      ]
    },
    {
      "cell_type": "markdown",
      "metadata": {
        "id": "IZJ7e3vNyOg2"
      },
      "source": [
        "### **Exercise 2.1: Measure Code Execution Time**"
      ]
    },
    {
      "cell_type": "markdown",
      "metadata": {
        "id": "e2bf974e"
      },
      "source": [
        "> Your task is to write a Python script that measures the time it takes to execute a specific block of code.\n",
        ">\n",
        ">Here's what you need to do:\n",
        ">\n",
        ">1.  **Import the `time` module:** You'll need functions from Python's built-in `time` module to record the time.\n",
        "2.  **Record the start time:** Get the current time just before the code block you want to measure starts. Use the `time.time()` function to get the current time in seconds since the epoch as a floating-point number, and store it in a variable (e.g., `start_time`).\n",
        "3.  **Include the code block to measure:** For this exercise, we'll use `time.sleep(10)` as the code block to simulate a task that takes 10 seconds to complete. In a real scenario, this would be the code you are interested in timing.\n",
        "4.  **Record the end time:** Get the current time just after the code block finishes executing, again using `time.time()`. Store this in a different variable (e.g., `end_time`).\n",
        "5.  **Calculate the time difference:** Subtract the start time from the end time to find the duration of the code block's execution. Store this in a variable (e.g., `time_difference`).\n",
        "6.  **Print the results:** Display the start time, end time, and the calculated time difference in a clear format such as \"the start time is ...\".\n",
        "7. Using this example to think about how functions under a module is called? Print your answer."
      ]
    },
    {
      "cell_type": "markdown",
      "metadata": {
        "id": "VQUooberym5G"
      },
      "source": [
        "### **Exercise 2.2: List Installed Libraries**"
      ]
    },
    {
      "cell_type": "markdown",
      "metadata": {
        "id": "cd0d2066"
      },
      "source": [
        "> Your task is to find a way to display a list of all the Python libraries that are currently installed in your Colab environment using the terminal.\n",
        ">\n",
        "> Ask LLM for the command line to use in terminal for this task and execute it in your Colab terminal.\n",
        ">\n",
        "> What is \"pip\" in the context of Python programming?"
      ]
    },
    {
      "cell_type": "markdown",
      "metadata": {
        "id": "eb0cbf36"
      },
      "source": [
        "## 3. Explore Python with: `help()`, `type()`, and `dir()`"
      ]
    },
    {
      "cell_type": "markdown",
      "metadata": {
        "id": "4a220137"
      },
      "source": [
        "Let's explore these helpful built-in functions in Python."
      ]
    },
    {
      "cell_type": "markdown",
      "metadata": {
        "id": "aeefbf67"
      },
      "source": [
        "### `help()`\n",
        "\n",
        "The `help()` function is your go-to for interactive help. It provides detailed documentation about functions, modules, classes, keywords, etc. When you call `help()` on an object, it displays its docstring and other relevant information."
      ]
    },
    {
      "cell_type": "code",
      "execution_count": null,
      "metadata": {
        "id": "ef421394"
      },
      "outputs": [],
      "source": [
        "# Get help on the built-in print function\n",
        "help(print)"
      ]
    },
    {
      "cell_type": "code",
      "execution_count": null,
      "metadata": {
        "id": "649b2798"
      },
      "outputs": [],
      "source": [
        "# Get help on the string data type\n",
        "help(str)"
      ]
    },
    {
      "cell_type": "code",
      "execution_count": null,
      "metadata": {
        "id": "4fe28bd8"
      },
      "outputs": [],
      "source": [
        "# Get help on a module (e.g., math)\n",
        "import math\n",
        "help(math)"
      ]
    },
    {
      "cell_type": "code",
      "execution_count": null,
      "metadata": {
        "id": "7eb8ae83"
      },
      "outputs": [],
      "source": [
        "# Get help on a method of an object (e.g., append method of a list)\n",
        "my_list = [1, 2, 3]\n",
        "help(my_list.append)"
      ]
    },
    {
      "cell_type": "markdown",
      "metadata": {
        "id": "c76c7a9d"
      },
      "source": [
        "### `type()`\n",
        "\n",
        "The `type()` function returns the type of an object. This is useful for understanding what kind of data you are working with and what operations are available for that type."
      ]
    },
    {
      "cell_type": "code",
      "execution_count": null,
      "metadata": {
        "id": "0f467bc5"
      },
      "outputs": [],
      "source": [
        "# Check the type of an integer\n",
        "x = 10\n",
        "print(type(x))\n",
        "\n",
        "# Check the type of a string\n",
        "y = \"Hello\"\n",
        "print(type(y))\n",
        "\n",
        "# Check the type of a list\n",
        "z = [1, 2, 3]\n",
        "print(type(z))\n",
        "\n",
        "# Check the type of a function\n",
        "def my_function():\n",
        "  pass\n",
        "print(type(my_function))"
      ]
    },
    {
      "cell_type": "markdown",
      "metadata": {
        "id": "81ced1a4"
      },
      "source": [
        "### `dir()`\n",
        "\n",
        "The `dir()` function returns a list of names (attributes and methods) in the current scope, or of an object. It's helpful for discovering what you can do with an object or what names are defined in a module or class."
      ]
    },
    {
      "cell_type": "code",
      "execution_count": null,
      "metadata": {
        "id": "7112a1f6"
      },
      "outputs": [],
      "source": [
        "# List names in the current scope (i.e. the current Python REPL session in Notebook)\n",
        "print(dir())\n",
        "\n",
        "# List attributes and methods of a string object\n",
        "my_string = \"Python\"\n",
        "print(dir(my_string))\n",
        "\n",
        "# List attributes and methods of a list object\n",
        "my_list = [1, 2, 3]\n",
        "print(dir(my_list))\n",
        "\n",
        "# List names in a module (e.g., math)\n",
        "import math\n",
        "print(dir(math))"
      ]
    },
    {
      "cell_type": "markdown",
      "metadata": {
        "id": "db18d612"
      },
      "source": [
        "These three functions are invaluable tools for exploring and understanding Python as you code. Use them whenever you encounter an object or function you're unfamiliar with!"
      ]
    },
    {
      "cell_type": "markdown",
      "metadata": {
        "id": "Yg0lL96FyyjF"
      },
      "source": [
        "### **Exercise 3.1: Splitting a String with the help from `dir()` and `help()`**"
      ]
    },
    {
      "cell_type": "markdown",
      "metadata": {
        "id": "799d1a85"
      },
      "source": [
        "> Your task is to split the string `\"apple$banana$kiwi$peach$melon\"` into individual fruit names.\n",
        ">\n",
        "> Here's how to approach it using `dir()` and `help()`:\n",
        ">\n",
        "> 1. **Define the string:** Create a variable (e.g., `fruit_string`) and assign the string `\"apple$banana$kiwi$peach$melon\"` to it.\n",
        "> 2. **Explore string methods:** Use `dir()` on your `fruit_string` variable to see a list of available methods for string objects. Look for a method that seems like it could be used to split a string based on a delimiter.\n",
        "> 3. **Get help on the potential method:** Once you've identified a promising method (hint: look for something related to \"split\"), use `help()` on that method (e.g., `help(fruit_string.<method_name>)`) to read its documentation and understand how to use it.\n",
        "> 4. **Apply the method:** Use the method you found to split the `fruit_string` by the \"$\" character. Store the result in a new variable called `splits`.\n",
        "> 5. **Examine the result:**\n",
        ">    - Print the result.\n",
        ">    - Print the type of the `splits` variable to see what kind of data structure the splitting method returned.\n",
        ">\n",
        ">A skeleton of the code solution is given in the following code cell.\n",
        ">\n",
        ">PS: You may very well split the code snippet into different code cells for convenience in reading the returned text."
      ]
    },
    {
      "cell_type": "code",
      "execution_count": null,
      "metadata": {
        "id": "25e9bedd"
      },
      "outputs": [],
      "source": [
        "# 1. Define the string\n",
        "fruit_string = \"apple$banana$kiwi$peach$melon\"\n",
        "\n",
        "# 2. Explore string methods using dir()\n",
        "\n",
        "# 3. Get help on the potential method using help()\n",
        "\n",
        "# 4. Apply the method to split the string and store in 'splits'\n",
        "splits =\n",
        "\n",
        "# 5. Examine the result\n",
        "# Print the result \"splits\"\n",
        "\n",
        "\n",
        "# Print the type of \"splits\"\n"
      ]
    },
    {
      "cell_type": "markdown",
      "metadata": {
        "id": "i1-yU83xkHkG"
      },
      "source": [
        "## 4. Built-in Types"
      ]
    },
    {
      "cell_type": "markdown",
      "metadata": {
        "id": "5eG9Vtz57XpR"
      },
      "source": [
        "### 4.1 Types"
      ]
    },
    {
      "cell_type": "markdown",
      "metadata": {
        "id": "39f0bc6f"
      },
      "source": [
        "In Python, there are several built-in data types that you can use. Here are some of the most common ones:\n"
      ]
    },
    {
      "cell_type": "markdown",
      "metadata": {
        "id": "GJEpqocx6RNj"
      },
      "source": [
        "*   **Numeric Types:**\n",
        "    *   `int`: Integers (e.g., `1`, `-10`, `100000`).\n",
        "    *   `float`: Floating-point numbers (e.g., `3.14`, `-0.001`, `2e10`).\n",
        "    *   `complex`: Complex numbers (e.g., `1 + 2j`, `-3j`).\n"
      ]
    },
    {
      "cell_type": "code",
      "execution_count": null,
      "metadata": {
        "id": "886c60f8"
      },
      "outputs": [],
      "source": [
        "# Examples of declaring numerical types\n",
        "\n",
        "# Integer\n",
        "my_integer = 10\n",
        "print(f\"Integer: {my_integer}, Type: {type(my_integer)}\")\n",
        "\n",
        "# Another integer example\n",
        "large_integer = 1000000000\n",
        "print(f\"Large Integer: {large_integer}, Type: {type(large_integer)}\")\n",
        "\n",
        "# Float\n",
        "my_float = 3.14\n",
        "print(f\"Float: {my_float}, Type: {type(my_float)}\")\n",
        "\n",
        "# Another float example (scientific notation)\n",
        "small_float = 2.5e-4\n",
        "print(f\"Small Float: {small_float}, Type: {type(small_float)}\")\n",
        "\n",
        "# Complex number\n",
        "my_complex = 1.467 + 2j\n",
        "print(f\"Complex: {my_complex}, Type: {type(my_complex)}\")\n",
        "\n"
      ]
    },
    {
      "cell_type": "markdown",
      "metadata": {
        "id": "4kpfxjYf6Tc2"
      },
      "source": [
        "*   **Sequence Types:**\n",
        "    *   `str`: Strings (sequences of characters) (e.g., `\"hello\"`, `'Python'`).\n",
        "    *   `range`: Represents an immutable sequence of numbers, often used in loops (e.g., `range(5)`).\n",
        "    *   `list`: Ordered, mutable sequences (e.g., `[1, 2, 3]`, `['a', 'b']`).\n",
        "    *   `tuple`: Ordered, immutable sequences (e.g., `(1, 2, 3)`, `('x', 'y')`).\n"
      ]
    },
    {
      "cell_type": "code",
      "execution_count": null,
      "metadata": {
        "id": "c789dfa6"
      },
      "outputs": [],
      "source": [
        "# Declare a string\n",
        "my_string = \"This is a string.\"\n",
        "print(f\"Value: {my_string}, Type: {type(my_string)}\")\n",
        "\n",
        "# Declare a range\n",
        "my_range = range(10)\n",
        "print(f\"Value: {my_range}, Type: {type(my_range)}\")\n",
        "\n",
        "# Declare a list\n",
        "my_list = [1, 2, 3, 4, 5]\n",
        "print(f\"Value: {my_list}, Type: {type(my_list)}\")\n",
        "\n",
        "# Declare a tuple\n",
        "my_tuple = (10, 20, 30)\n",
        "print(f\"Value: {my_tuple}, Type: {type(my_tuple)}\")"
      ]
    },
    {
      "cell_type": "markdown",
      "metadata": {
        "id": "xJWdyEze6WCd"
      },
      "source": [
        "*   **Set Types:**\n",
        "    *   `set`: Unordered collections of unique elements (e.g., `{1, 2, 3}`, `{'apple', 'banana'}`).\n",
        "    *   `frozenset`: Immutable version of a set.\n"
      ]
    },
    {
      "cell_type": "code",
      "execution_count": null,
      "metadata": {
        "id": "a18ba00f"
      },
      "outputs": [],
      "source": [
        "# Declare a set\n",
        "my_set = {1, 2, 3, 4, 5}\n",
        "print(f\"Value: {my_set}, Type: {type(my_set)}\")\n",
        "\n",
        "# Declare a frozenset\n",
        "my_frozenset = frozenset([10, 20, 30])\n",
        "print(f\"Value: {my_frozenset}, Type: {type(my_frozenset)}\")"
      ]
    },
    {
      "cell_type": "markdown",
      "metadata": {
        "id": "LN66ctQ26Zeu"
      },
      "source": [
        "*   **Mapping Types:**\n",
        "    *   `dict`: Dictionaries (key-value pairs) (e.g., `{'a': 1, 'b': 2}`, `{'name': 'Alice', 'age': 30}`).\n"
      ]
    },
    {
      "cell_type": "code",
      "execution_count": null,
      "metadata": {
        "id": "74c69695"
      },
      "outputs": [],
      "source": [
        "# Declare a dictionary\n",
        "my_dict = {'name': 'Alice', 'age': 30}\n",
        "print(f\"Value: {my_dict}, Type: {type(my_dict)}\")"
      ]
    },
    {
      "cell_type": "markdown",
      "metadata": {
        "id": "W9ktH6Yp6bzc"
      },
      "source": [
        "*   **Boolean Type:**\n",
        "    *   `bool`: Boolean values, either `True` or `False`."
      ]
    },
    {
      "cell_type": "code",
      "execution_count": null,
      "metadata": {
        "id": "6ed2636b"
      },
      "outputs": [],
      "source": [
        "# Declare a boolean\n",
        "my_boolean = True\n",
        "print(f\"Value: {my_boolean}, Type: {type(my_boolean)}\")\n",
        "\n",
        "my_boolean = False\n",
        "print(f\"Value: {my_boolean}, Type: {type(my_boolean)}\")"
      ]
    },
    {
      "cell_type": "markdown",
      "metadata": {
        "id": "YhdOKz3P6dtO"
      },
      "source": [
        "*   **None Type:**\n",
        "    *   `NoneType`: Represents the absence of a value. The only object of this type is `None`."
      ]
    },
    {
      "cell_type": "markdown",
      "metadata": {
        "id": "YTyyZ9z99xlX"
      },
      "source": [
        "### 4.2 Reference (variable name), Literal and `=`"
      ]
    },
    {
      "cell_type": "markdown",
      "metadata": {
        "id": "3bbf5155"
      },
      "source": [
        "In Python, when you write a statement like `my_variable = 10`:\n",
        "\n",
        "*   `my_variable` is the **variable name**, also known as a **reference**. It's a name that points to an object in memory.\n",
        "*   `10` is a **literal**. It's a direct representation of a fixed value in the code."
      ]
    },
    {
      "cell_type": "code",
      "execution_count": null,
      "metadata": {
        "id": "70ffdf16"
      },
      "outputs": [],
      "source": [
        "# Examples of literal types\n",
        "print('Literals and their types')\n",
        "print(type('Hello'))        # String literal\n",
        "print(type(10))             # Integer literal\n",
        "print(type(3.14))           # Float literal\n",
        "print(type(1j))             # Complex literal\n",
        "print(type(True))           # Boolean literal\n",
        "print(type([1, 2, 3]))      # List literal\n",
        "print(type((1, 2, 3)))      # Tuple literal\n",
        "print(type({'a': 1, 'b': 2})) # Dictionary literal\n",
        "print(type({1, 2, 3}))      # Set literal\n",
        "print(type(None))           # None literal\n",
        "\n",
        "print('-------------------------')\n",
        "reference = 'beautiful'\n",
        "print(f'{type(reference)} , {type(\"beautiful\")}')"
      ]
    },
    {
      "cell_type": "markdown",
      "metadata": {
        "id": "iDf3MNPr95xh"
      },
      "source": [
        "*   `=` is the **assignment operator**. It assigns the reference (`my_variable`) to the object represented by the literal (`10`). In essence, it makes the name `my_variable` point to the integer object `10` in memory.\n",
        "\n",
        "Variables in Python don't store the values themselves directly; they hold references to objects. When you assign a variable, you are binding a name to an object."
      ]
    },
    {
      "cell_type": "code",
      "execution_count": null,
      "metadata": {
        "id": "Y89ytiSOV6mM"
      },
      "outputs": [],
      "source": [
        "# To illustrate the assignment of \"=\"\n",
        "\n",
        "# Assign 0 to reference a\n",
        "a = 0\n",
        "print(a)\n",
        "\n",
        "# The value of a is fetched, then is added with 1. The final result is then assigned to the reference a\n",
        "a = a + 1\n",
        "print(a)"
      ]
    },
    {
      "cell_type": "markdown",
      "metadata": {
        "id": "fQ2T0rKKAO0p"
      },
      "source": [
        "### 4.3 Mutable Types v.s. Immutable Types"
      ]
    },
    {
      "cell_type": "markdown",
      "metadata": {
        "id": "f509af85"
      },
      "source": [
        "In Python, built-in types can be classified as either mutable or immutable. Understanding this distinction is important because it affects how you can interact with objects of these types.\n",
        "\n",
        "*   **Mutable types:** The state of objects of these types *can* be changed after they are created. This means you can modify the object in place without creating a new object. Think of it like having a physical box (the object) where you can add or remove items (change its state) without getting a new box. Mutable types are:\n",
        "    *   `list`\n",
        "    *   `set`\n",
        "    *   `dict`\n",
        "\n",
        "*   **Immutable types:** The state of objects of these types *cannot* be changed after they are created. If you try to modify an \"immutable\" object, you are actually creating a *new* object with the desired changes, and the original object remains unchanged. Think of it like a sealed container – to change its contents, you need to get a new container with the new contents. Immutable types are\n",
        "    *   `int`\n",
        "    *   `float`\n",
        "    *   `complex`\n",
        "    *   `bool`\n",
        "    *   `str`\n",
        "    *   `range`\n",
        "    *   `tuple`  -- counterpart of `list`\n",
        "    *   `frozenset` -- counterpart of `set`\n",
        "\n",
        "Let's look at some examples to see the practical difference."
      ]
    },
    {
      "cell_type": "code",
      "execution_count": null,
      "metadata": {
        "id": "749f4c06"
      },
      "outputs": [],
      "source": [
        "# Example demonstrating string immutability with modification\n",
        "my_string = \"Python\"\n",
        "print(f\"Original string: {my_string}, id(my_string): {id(my_string)}\")\n",
        "\n",
        "# \"Modifying\" the string by concatenation\n",
        "my_string = my_string + \" Programming\"\n",
        "print(f\"After concatenation: {my_string}, id(my_string): {id(my_string)}\") # id changes\n",
        "\n",
        "# Another way to \"modify\" - slicing and reassigning\n",
        "my_string = my_string.upper()\n",
        "print(f\"After upper(): {my_string}, id(my_string): {id(my_string)}\") # id changes again"
      ]
    },
    {
      "cell_type": "code",
      "execution_count": null,
      "metadata": {
        "id": "4a27c023"
      },
      "outputs": [],
      "source": [
        "# Example demonstrating float immutability with assignment\n",
        "a = 3.14\n",
        "print(f\"Step 1: a = {a}, id(a): {id(a)}\")\n",
        "\n",
        "b = a\n",
        "print(f\"Step 2: b = {b}, id(b): {id(b)}\")\n",
        "print(f\"Step 2: a = {a}, id(a): {id(a)}\") # a remains unchanged and has the same id\n",
        "\n",
        "b = 10.5\n",
        "print(f\"Step 3: b = {b}, id(b): {id(b)}\") # b now refers to a new float object with a different id\n",
        "print(f\"Step 3: a = {a}, id(a): {id(a)}\") # a is still unchanged and refers to the original float object"
      ]
    },
    {
      "cell_type": "code",
      "execution_count": null,
      "metadata": {
        "id": "b9d07637"
      },
      "outputs": [],
      "source": [
        "# Example demonstrating list mutability\n",
        "my_list = [1, 2, 3]\n",
        "print(f\"Original list: {my_list}, id(my_list): {id(my_list)}\")\n",
        "\n",
        "# Assign my_list to a new_list\n",
        "new_list = my_list\n",
        "\n",
        "# Modifying the list in place using append\n",
        "new_list.append(4)\n",
        "print(f\"After append new_list, my_list = {my_list}, id(my_list): {id(my_list)}, id(new_list): {id(new_list)}\") # id remains the same\n",
        "\n",
        "# Modifying the list in place using item assignment\n",
        "my_list[0] = 100\n",
        "print(f\"After item assignment on my_list, new_list = {new_list}, id(my_list): {id(my_list)}, id(new_list): {id(new_list)}\") # id remains the same"
      ]
    },
    {
      "cell_type": "code",
      "execution_count": null,
      "metadata": {
        "id": "Cuy2W6O0F2TF"
      },
      "outputs": [],
      "source": [
        "# Example demonstrating dictionary mutability\n",
        "my_dict = {'a': 1, 'b': 2}\n",
        "print(f\"Original dictionary: {my_dict}, id(my_dict): {id(my_dict)}\")\n",
        "\n",
        "# Adding a new key-value pair\n",
        "my_dict['c'] = 3\n",
        "print(f\"After adding item: {my_dict}, id(my_dict): {id(my_dict)}\") # id remains the same\n",
        "\n",
        "# Modifying an existing value\n",
        "my_dict['a'] = 1000\n",
        "print(f\"After modifying item: {my_dict}, id(my_dict): {id(my_dict)}\") # id remains the same"
      ]
    },
    {
      "cell_type": "markdown",
      "metadata": {
        "id": "wygTSzh2JrYu"
      },
      "source": [
        "> **What does `id()` return?** Use `help()`to find out!"
      ]
    },
    {
      "cell_type": "markdown",
      "metadata": {
        "id": "0789080b"
      },
      "source": [
        "### **Exercise 4.1: Exploring Numerical Operators**\n",
        "\n"
      ]
    },
    {
      "cell_type": "markdown",
      "metadata": {
        "id": "ibVAqHeSSXDe"
      },
      "source": [
        "Your task is to experiment with different arithmetic operators in Python using various numerical types (`int`, `float`, `complex`).\n",
        "\n",
        "Here's what you need to do:\n",
        "\n",
        "1.  **Choose numerical types:** Select a few examples of integers, floats, and complex numbers.\n",
        "2.  **Apply operators:** Use the following operators on pairs of your chosen numbers:\n",
        "    *   `+` (addition)\n",
        "    *   `-` (subtraction)\n",
        "    *   `*` (multiplication)\n",
        "    *   `/` (division)\n",
        "    *   `//` (floor division)\n",
        "    *   `%` (modulo - remainder of the division)\n",
        "    *   `**` (exponentiation)\n",
        "3.  **Observe the results:** For each operation, print the expression and the result. Pay attention to:\n",
        "    *   The type of the result (e.g., adding two integers might result in an integer, but dividing two integers might result in a float).\n",
        "    *   The behavior of floor division (`//`) and modulo (`%`) with different types, especially negative numbers.\n",
        "    *   The behavior of operations involving complex numbers.\n",
        "4.  **Document your findings:** Add comments in your code or create markdown cells to explain what you observe about each operator and how the types of the operands affect the type and value of the result.\n",
        "\n",
        "Here's a starting point with a few examples you can expand upon:"
      ]
    },
    {
      "cell_type": "code",
      "execution_count": null,
      "metadata": {
        "id": "a9118edc"
      },
      "outputs": [],
      "source": [
        "# Example 1: Integer operations\n",
        "a = 10\n",
        "b = 3\n",
        "print(f\"{a} + {b} = {a + b}\")\n",
        "print(f\"{a} // {b} = {a // b}\") # Floor division\n",
        "print(f\"{a} % {b} = {a % b}\")   # Modulo"
      ]
    },
    {
      "cell_type": "markdown",
      "metadata": {
        "id": "A-UI2FGXHmFt"
      },
      "source": [
        "### **Exercise 4.2: Exploring Comparison Operators**"
      ]
    },
    {
      "cell_type": "markdown",
      "metadata": {
        "id": "48bcc1f1"
      },
      "source": [
        "Your task is to experiment with different comparison operators in Python using various data types (e.g., `int`, `float`, `str`).\n",
        "\n",
        "Here's what you need to do:\n",
        "\n",
        "1.  **Choose data types and values:** Select examples of integers, floats, and strings. You can also try other types like lists or tuples, but be mindful of how comparisons work for those types.\n",
        "2.  **Apply operators:** Use the following operators on pairs of your chosen values:\n",
        "    *   `==` (equal to)\n",
        "    *   `!=` (not equal to)\n",
        "    *   `<` (less than)\n",
        "    *   `>` (greater than)\n",
        "    *   `<=` (less than or equal to)\n",
        "    *   `>=` (greater than or equal to)\n",
        "3.  **Observe the results:** For each operation, print the expression and the result. Pay attention to:\n",
        "    *   The return type of the operation (it will always be a boolean: `True` or `False`).\n",
        "    *   The result of the comparison for different data types.\n",
        "    *   How string comparisons work (lexicographically).\n",
        "4.  **Document your findings:** Add comments in your code or create markdown cells to explain what you observe about each operator and how it behaves with different data types."
      ]
    },
    {
      "cell_type": "code",
      "execution_count": null,
      "metadata": {
        "id": "697695b5"
      },
      "outputs": [],
      "source": [
        "# Example for comparison operators exercise\n",
        "\n",
        "# Integers\n",
        "x = 15\n",
        "y = 10\n",
        "\n",
        "print(f\"{x} == {y}: {x == y}\")\n",
        "print(f\"{x} != {y}: {x != y}\")\n",
        "print(f\"{x} > {y}: {x > y}\")\n",
        "print(f\"{x} <= {y}: {x <= y}\")\n",
        "\n",
        "print(\"-\" * 20)\n",
        "\n",
        "# Strings\n",
        "str_a = \"banana\"\n",
        "str_b = \"apple\"\n",
        "\n",
        "print(f\"'{str_a}' < '{str_b}': {str_a < str_b}\")\n",
        "print(f\"'{str_a}' >= '{str_b}': {str_a >= str_b}\")\n",
        "\n",
        "print(\"-\" * 20)\n",
        "\n",
        "# Floats\n",
        "f1 = 3.14\n",
        "f2 = 3.14159\n",
        "\n",
        "print(f\"{f1} == {f2}: {f1 == f2}\")\n",
        "print(f\"{f1} < {f2}: {f1 < f2}\")"
      ]
    },
    {
      "cell_type": "markdown",
      "metadata": {
        "id": "79e44c7b"
      },
      "source": [
        "### **Exercise 4.3: Exploring Logical Operators (`and`, `or`)**"
      ]
    },
    {
      "cell_type": "markdown",
      "metadata": {
        "id": "8cTQKiS9LmXL"
      },
      "source": [
        "Your task is to experiment with the logical operators `and` and `or` in Python. These operators are used to combine boolean expressions and return a boolean result (`True` or `False`).\n",
        "\n",
        "Here's what you need to do:\n",
        "\n",
        "1.  **Basic `and` and `or`:** Experiment with simple boolean values and expressions using `and` and `or`.\n",
        "    *   Try `True and True`, `True and False`, `False and False`.\n",
        "    *   Try `True or True`, `True or False`, `False or False`.\n",
        "    *   Try combining comparison operations with logical operators (e.g., `(5 > 3) and (10 < 20)`).\n",
        "2.  **Combining `and` and `or`:** Explore how `and` and `or` work together in a single expression. Remember the order of operations ( `and` generally evaluates before `or` unless parentheses are used).\n",
        "3.  **Using Parentheses:** Understand how parentheses `()` can change the order of evaluation in logical expressions.\n",
        "4.  **Complex Expression:** Consider the following complex boolean expression: `result = (True and False) or (True or False) and not False`. Derive the result and verify with Python.\n",
        "5.  **Problem** : let `h` be the height in cm and `w` be the weight in kg of a person, write an expression to select people of height between 150cm and 170cm, while their weights is less than 40kg or more than 90kg."
      ]
    },
    {
      "cell_type": "markdown",
      "metadata": {
        "id": "6cd9b84b"
      },
      "source": [
        "### **Exercise 4.4: Exploring Python Lists and Operations**\n",
        "\n",
        "Your task is to work with a given list and explore its built-in methods and some common list-related functions.\n",
        "\n",
        "Here's the list you'll be working with:"
      ]
    },
    {
      "cell_type": "code",
      "execution_count": null,
      "metadata": {
        "id": "a6117367"
      },
      "outputs": [],
      "source": [
        "import time\n",
        "my_list = [3, 69, 'sunny', '90', 'ipsa', ['a', 'b', 4], True, 3.14, time]\n",
        "\n",
        "import random as rd\n",
        "num_list = [rd.uniform(0, 100) for _ in range(5)]"
      ]
    },
    {
      "cell_type": "markdown",
      "metadata": {
        "id": "655c004f"
      },
      "source": [
        "**A. What you need to do with `my_list`:**\n",
        "\n",
        "1.  **List all built-in methods:** Use the `dir()` function on `my_list` to see a list of all available methods for list objects.\n",
        "2.  **Explore methods with `help()`:** Choose a few methods from the `dir()` output (like `append`, `remove`, `index`, `insert`) and use `help()` on them (e.g., `help(my_list.append)`) to understand how they work.\n",
        "3.  **Use `len()`:** The `len()` function is not a list method, but it's commonly used with lists. Use `help(len)` to understand it, and then use `len()` on `my_list` to find out how many elements are in the list. Print the result.\n",
        "4.  **Experiment with methods:**\n",
        "    *   Use the `.append()` method to add a new element to the end of `my_list`. Print the list after appending.\n",
        "    *   Use the `.remove()` method to remove a specific element from `my_list`. Print the list after removing.\n",
        "    *   Use the `.index()` method to find the index of a specific element in `my_list`. Print the index.\n",
        "    *   Use the `.insert()` method to insert a new element at a specific position in `my_list`. Print the list after inserting.\n",
        "5.  **Access and print an element:** use `.index()` to determine the index of an element you prefer, and print out this element using `[<index>]` operator.\n",
        "\n",
        "Use code cells to perform each step and add comments or markdown cells to explain your observations.\n",
        "\n",
        "**B. What you need to do with `num_list`:**\n",
        "\n",
        "Order numbers in the list with increasing order and then decreasing order, using `.sort()` method of a list with help of `help()`.\n",
        "\n",
        "**C. What happens if applying `+` operator with the two lists?**\n",
        "Find out by applying `+` with the two lists in both orders."
      ]
    },
    {
      "cell_type": "code",
      "execution_count": null,
      "metadata": {
        "id": "77ED6E9vSITt"
      },
      "outputs": [],
      "source": [
        "# A\n",
        "\n",
        "\n",
        "# B\n",
        "\n",
        "\n",
        "# C"
      ]
    },
    {
      "cell_type": "markdown",
      "metadata": {
        "id": "ae164762"
      },
      "source": [
        "### **Exercise 4.5: Creating and Exploring Dictionaries**"
      ]
    },
    {
      "cell_type": "markdown",
      "metadata": {
        "id": "zD4b5EsFSOic"
      },
      "source": [
        "Your task is to create a Python dictionary to store information about an employee and then explore its contents.\n",
        "\n",
        "Here's what you need to do:\n",
        "\n",
        "1.  **Create the dictionary:** Create a dictionary named `employee_info` with the following key-value pairs:\n",
        "    *   `\"name\"`: The employee's name (e.g., \"Alice Smith\")\n",
        "    *   `\"employee_id\"`: The employee's ID (e.g., \"E12345\")\n",
        "    *   `\"department\"`: The employee's department (e.g., \"Sales\")\n",
        "    *   `\"is_full_time\"`: A boolean indicating if the employee is full-time (e.g., `True`)\n",
        "    *   `\"salary\"`: The employee's salary (e.g., 60000.00)\n",
        "2.  **Print the dictionary:** Print the entire `employee_info` dictionary.\n",
        "3.  **Access values:** Access and print the employee's name and department using their respective keys.\n",
        "4.  **Add a new key-value pair:** Add a new key-value pair to the dictionary for the employee's `\"hire_date\"` (e.g., \"2022-08-15\"). Print the dictionary again to see the added information.\n",
        "5.  **Modify a value:** Change the employee's salary to a new value (e.g., 65000.00). Print the dictionary to see the updated salary.\n",
        "6.  **Explore keys, values, and items:** Use the `.keys()`, `.values()`, and `.items()` methods to get views of the dictionary's keys, values, and key-value pairs. Print each of these views."
      ]
    },
    {
      "cell_type": "code",
      "execution_count": null,
      "metadata": {
        "id": "662054c6"
      },
      "outputs": [],
      "source": [
        "# Example of creating an employee dictionary (starting point)\n",
        "\n",
        "# employee_info = {\n",
        "#     \"name\": \"Alice Smith\",\n",
        "#     \"employee_id\": \"E12345\",\n",
        "#     # Add the rest of the employee information here\n",
        "# }\n",
        "\n",
        "# print(employee_info)\n",
        "\n",
        "# Now, try to complete the rest of the exercise steps below!"
      ]
    },
    {
      "cell_type": "markdown",
      "metadata": {
        "id": "t8l6mSv6S3oW"
      },
      "source": [
        "## 5. Flow Control & Scope (Indent)"
      ]
    },
    {
      "cell_type": "markdown",
      "metadata": {
        "id": "b1ba1a6f"
      },
      "source": [
        "Flow control is the order in which the program's code executes. It determines which statements are executed, and under which conditions. In Python, flow control is managed using constructs like conditional statements (`if`, `elif`, `else`) and loops (`for`, `while`)."
      ]
    },
    {
      "cell_type": "markdown",
      "metadata": {
        "id": "9164352d"
      },
      "source": [
        "### 5.1 Conditional Statements (`if`, `elif`, `else`)\n",
        "\n"
      ]
    },
    {
      "cell_type": "markdown",
      "metadata": {
        "id": "r-ha9zMhUMTy"
      },
      "source": [
        "Conditional statements allow you to execute specific blocks of code only if certain conditions are met.\n",
        "\n",
        "*   The `if` statement is used to test a condition. If the condition is `True`, the code block indented below it is executed.\n",
        "*   The `elif` (short for \"else if\") statement allows you to check additional conditions if the preceding `if` or `elif` conditions were `False`.\n",
        "*   The `else` statement is an optional final block that is executed if none of the preceding `if` or `elif` conditions were `True`."
      ]
    },
    {
      "cell_type": "code",
      "execution_count": null,
      "metadata": {
        "id": "f5b9e680"
      },
      "outputs": [],
      "source": [
        "# Example of if, elif, and else\n",
        "score = 85\n",
        "\n",
        "if score >= 90:\n",
        "  print(\"Excellent!\")\n",
        "elif score >= 75:\n",
        "  print(\"Very Good!\")\n",
        "elif score >= 60:\n",
        "  print(\"Good.\")\n",
        "else:\n",
        "  print(\"Needs Improvement.\")"
      ]
    },
    {
      "cell_type": "markdown",
      "metadata": {
        "id": "028efe28"
      },
      "source": [
        "### 5.2 Loops (`for`, `while`)"
      ]
    },
    {
      "cell_type": "markdown",
      "metadata": {
        "id": "QCwYrUByUZJX"
      },
      "source": [
        "Loops allow you to repeatedly execute a block of code.\n",
        "\n",
        "#### `for` loops\n",
        "\n",
        "`for` loops are used for iterating over a sequence (like a list, tuple, string, or range) or other iterable objects. The code block is executed once for each item in the sequence."
      ]
    },
    {
      "cell_type": "code",
      "execution_count": null,
      "metadata": {
        "id": "e3b7050c"
      },
      "outputs": [],
      "source": [
        "# Example of a for loop with a list\n",
        "fruits = [\"apple\", \"banana\", \"cherry\"]\n",
        "for fruit in fruits:\n",
        "  print(fruit)"
      ]
    },
    {
      "cell_type": "code",
      "execution_count": null,
      "metadata": {
        "id": "c15a378c"
      },
      "outputs": [],
      "source": [
        "# Example of a for loop with a range\n",
        "for i in range(5): # range(5) generates numbers from 0 up to (but not including) 5\n",
        "  print(i)"
      ]
    },
    {
      "cell_type": "markdown",
      "metadata": {
        "id": "066b53b5"
      },
      "source": [
        "#### `while` loops\n",
        "\n",
        "`while` loops are used to execute a block of code repeatedly as long as a given condition is `True`. You need to ensure that the condition will eventually become `False` to avoid infinite loops."
      ]
    },
    {
      "cell_type": "code",
      "execution_count": null,
      "metadata": {
        "id": "04ac5618"
      },
      "outputs": [],
      "source": [
        "# Example of a while loop\n",
        "count = 0\n",
        "while count < 5:\n",
        "  print(f\"Count is: {count}\")\n",
        "  count += 1 # Increment count to eventually make the condition False"
      ]
    },
    {
      "cell_type": "markdown",
      "metadata": {
        "id": "c72a9295"
      },
      "source": [
        "### 5.3 Indentation and Scope\n"
      ]
    },
    {
      "cell_type": "markdown",
      "metadata": {
        "id": "AT474ab6UelT"
      },
      "source": [
        "Python uses indentation (whitespace at the beginning of a line) to define blocks of code. This is different from many other programming languages that use curly braces `{}` or keywords like `begin` and `end`. Consistent indentation is crucial for Python code to run correctly.\n",
        "\n",
        "*   **Indentation:** All lines within a block (e.g., inside an `if` statement, a `for` loop, or a function) must be indented by the same amount (usually 4 spaces).\n",
        "*   **Scope:** Scope refers to the region of a program where a variable is accessible. Variables defined within a block of code (like inside a function or a loop) have a local scope and are only accessible within that block. Variables defined outside of any function or class have a global scope and can be accessed from anywhere in the program."
      ]
    },
    {
      "cell_type": "code",
      "execution_count": null,
      "metadata": {
        "id": "ac746832"
      },
      "outputs": [],
      "source": [
        "# Example demonstrating indentation and scope\n",
        "\n",
        "global_variable = \"I am global\"\n",
        "\n",
        "def my_function():\n",
        "  # This is a new scope (local scope for my_function)\n",
        "  local_variable = \"I am local to my_function\"\n",
        "  print(global_variable) # Global variable is accessible here\n",
        "  print(local_variable)  # Local variable is accessible here\n",
        "\n",
        "my_function()\n",
        "\n",
        "# print(local_variable) # This would cause a NameError because local_variable is not in the global scope"
      ]
    },
    {
      "cell_type": "markdown",
      "metadata": {
        "id": "8a67019f"
      },
      "source": [
        "### Combining Flow Control and Scope\n",
        "\n",
        "Flow control structures often create new scopes or affect how variables within them are accessed."
      ]
    },
    {
      "cell_type": "code",
      "execution_count": null,
      "metadata": {
        "id": "26cc1cf2"
      },
      "outputs": [],
      "source": [
        "# Example combining a loop and scope\n",
        "for i in range(3):\n",
        "  loop_variable = f\"Value {i}\"\n",
        "  print(loop_variable)\n",
        "\n",
        "# Note: In Python 3, variables defined in a for loop's scope\n",
        "# can sometimes \"leak\" into the surrounding scope after the loop finishes.\n",
        "# However, it's best practice to treat them as primarily within the loop's context.\n",
        "# The value of loop_variable here will be the value from the last iteration.\n",
        "print(f\"After the loop, loop_variable is: {loop_variable}\")"
      ]
    },
    {
      "cell_type": "markdown",
      "metadata": {
        "id": "5b3ef376"
      },
      "source": [
        "### **Exercise 5.1 : Accumulating with a `for` loop**"
      ]
    },
    {
      "cell_type": "markdown",
      "metadata": {
        "id": "Fyikll8tVvMn"
      },
      "source": [
        "Your task is to use a `for` loop to calculate the sum of all integers from 1 to 100.\n",
        "\n",
        "Here's what you need to do:\n",
        "\n",
        "1.  **Initialize a variable:** Create a variable (e.g., `total_sum`) and initialize it to 0. This variable will store the accumulated sum.\n",
        "2.  **Use a `for` loop:** Use a `for` loop with the `range()` function to iterate through the numbers from 1 to 100 (inclusive).\n",
        "3.  **Accumulate the sum:** Inside the loop, add `1` to your `total_sum` variable.\n",
        "4.  **Print the result:** After the loop finishes, print the final value of `total_sum`."
      ]
    },
    {
      "cell_type": "code",
      "execution_count": null,
      "metadata": {
        "id": "Gvyw1phaVh50"
      },
      "outputs": [],
      "source": [
        "total_sum = 0\n",
        "\n",
        "# the for loop\n",
        "\n",
        "\n",
        "\n",
        "# print the result\n",
        "print('total_sum = ', total_sum)"
      ]
    },
    {
      "cell_type": "markdown",
      "metadata": {
        "id": "25d2fd8e"
      },
      "source": [
        "### **Exercise 5.2: Searching with a `while` loop**"
      ]
    },
    {
      "cell_type": "markdown",
      "metadata": {
        "id": "0aVH9mXHXuKr"
      },
      "source": [
        "Your task is to use a `while` loop to find the first number greater than 9 in a predefined list of 1000 random numbers.\n",
        "\n",
        "Here's the list you'll be working with:"
      ]
    },
    {
      "cell_type": "code",
      "execution_count": null,
      "metadata": {
        "id": "a0007e08"
      },
      "outputs": [],
      "source": [
        "import random\n",
        "\n",
        "# Generate a list of 1000 random numbers between 0 and 10\n",
        "random_numbers = [random.uniform(0, 10) for _ in range(1000)]\n",
        "\n",
        "# Print the first few elements to see the data\n",
        "print(random_numbers[:10])"
      ]
    },
    {
      "cell_type": "markdown",
      "metadata": {
        "id": "595ee284"
      },
      "source": [
        "Here's what you need to do:\n",
        "\n",
        "1.  **Initialize variables:**\n",
        "    *   Create a variable (e.g., `index`) and initialize it to 0. This will be used to keep track of your current position in the list.\n",
        "    *   Create a variable (e.g., `found_number`) and initialize it to `None`. This will store the first number found that is greater than 9.\n",
        "2.  **Use a `while` loop:**\n",
        "    *   Set up a `while` loop that continues as long as the `index` is within the bounds of the `random_numbers` list AND `found_number` is still `None`.\n",
        "3.  **Check the condition:** Inside the loop, check if the element at the current `index` in `random_numbers` is greater than 9.\n",
        "4.  **Update variables:**\n",
        "    *   If the number is greater than 9, assign that number to `found_number`.\n",
        "    *   If the number is not greater than 9, increment the `index` to move to the next element.\n",
        "5.  **Print the result:** After the loop finishes, print the value of `found_number`. If the loop completed without finding a number greater than 9, `found_number` will still be `None`."
      ]
    },
    {
      "cell_type": "code",
      "execution_count": null,
      "metadata": {
        "id": "6f771517"
      },
      "outputs": [],
      "source": [
        "# Initialize variables\n",
        "index = 0\n",
        "found_number = None\n",
        "\n",
        "# Use a while loop\n",
        "\n",
        "\n",
        "  # Check the condition\n",
        "\n",
        "\n",
        "    # Update found_number\n",
        "\n",
        "\n",
        "  # Increment index\n",
        "\n",
        "\n",
        "# Print the result\n",
        "print(f\"The first number greater than 9 found is: {found_number}\")"
      ]
    },
    {
      "cell_type": "markdown",
      "metadata": {
        "id": "1c63fe9d"
      },
      "source": [
        "### **Exercise 5.3: Repeated Search and Average Index**"
      ]
    },
    {
      "cell_type": "markdown",
      "metadata": {
        "id": "6dTNmGJdZ1dn"
      },
      "source": [
        "Building on the previous exercise, your task is to repeat the process of finding the first number greater than 9 in a list of 1000 random numbers, but this time you will do it 100 times. For each repetition, you will generate a *new* list of random numbers and record the index of the first number found that is greater than 9. Finally, you will calculate the average of these recorded indices.\n",
        "\n",
        "Here's what you need to do:\n",
        "\n",
        "1.  **Initialize a list to store indices:** Create an empty list (e.g., `found_indices`) to store the index where a number greater than 9 is found in each of the 100 repetitions.\n",
        "2.  **Use a `for` loop for repetitions:** Create a `for` loop that runs 100 times.\n",
        "3.  **Generate a new random list:** Inside the `for` loop, generate a new list of 1000 random numbers between 0 and 10, just like in the previous exercise.\n",
        "4.  **Implement the search `while` loop:** Use the `while` loop from the previous exercise to find the first number greater than 9 in the *current* random number list generated in step 3.\n",
        "5.  **Record the index:** If a number greater than 9 is found in the `while` loop, append its index to the `found_indices` list.\n",
        "6.  **Calculate the average index:** After the `for` loop finishes (after 100 repetitions), calculate the average of the numbers stored in the `found_indices` list. You can use `sum()` and `len()` for this.\n",
        "7.  **Print the average:** Print the calculated average index."
      ]
    },
    {
      "cell_type": "code",
      "execution_count": null,
      "metadata": {
        "id": "20a05851"
      },
      "outputs": [],
      "source": [
        "import random\n",
        "\n",
        "# Initialize a list to store indices\n",
        "found_indices = []\n",
        "\n",
        "# Use a for loop for repetitions (100 times)\n",
        "for _ in range(100):\n",
        "  # Generate a new random list (1000 numbers between 0 and 10)\n",
        "  random_numbers = [random.uniform(0, 10) for _ in range(1000)]\n",
        "\n",
        "  # Initialize variables for the while loop search\n",
        "\n",
        "\n",
        "  # Use a while loop to search for the first number > 9\n",
        "\n",
        "\n",
        "    # Check the condition\n",
        "\n",
        "\n",
        "      # If found, record the index and break or set found_number\n",
        "\n",
        "\n",
        "    # Increment index\n",
        "\n",
        "\n",
        "# Calculate the average index\n",
        "\n",
        "\n",
        "# Print the average index\n",
        "print(f\"The average index of the first number greater than 9 is: {average_index}\")"
      ]
    }
  ],
  "metadata": {
    "colab": {
      "collapsed_sections": [
        "M-U_HeJCpAdv",
        "MWNOMbQW8SE5",
        "7f5fe2e9",
        "c635ce47",
        "3de536b9",
        "IZJ7e3vNyOg2",
        "VQUooberym5G",
        "eb0cbf36",
        "aeefbf67",
        "c76c7a9d",
        "81ced1a4",
        "Yg0lL96FyyjF",
        "5eG9Vtz57XpR",
        "fQ2T0rKKAO0p",
        "0789080b",
        "A-UI2FGXHmFt",
        "79e44c7b",
        "6cd9b84b"
      ],
      "provenance": []
    },
    "kernelspec": {
      "display_name": "Python 3",
      "name": "python3"
    },
    "language_info": {
      "name": "python"
    }
  },
  "nbformat": 4,
  "nbformat_minor": 0
}